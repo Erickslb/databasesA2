{
 "cells": [
  {
   "cell_type": "markdown",
   "id": "ae16724a",
   "metadata": {},
   "source": [
    "# Banco de Dados - A2 "
   ]
  },
  {
   "cell_type": "markdown",
   "id": "924ec286",
   "metadata": {},
   "source": [
    "## I - Carregando os dados capturados"
   ]
  },
  {
   "cell_type": "markdown",
   "id": "c9b5eb82",
   "metadata": {},
   "source": [
    "Capturamos 3 arquivos geojson que serão utilizados para a nossa tarefa:\n",
    "\n",
    "+ [Arquivo do perímetro do estado do Piauí](https://github.com/tbrugz/geodata-br)\n",
    "+ [Arquivo com municípios atingidos por seca em 2015](https://dados.gov.br/dataset/municipios-atingidos-por-eventos-de-seca-em-2015)\n",
    "+ [Arquivo com o percentual de moradores em domicílios particulares com 1 a 2 salários](https://dados.gov.br/dataset/cgeo_vw_perc_morad_rend_1_a_2)"
   ]
  },
  {
   "cell_type": "code",
   "execution_count": 1,
   "id": "096fe3f8",
   "metadata": {},
   "outputs": [],
   "source": [
    "import json #carregaremos os geojsons em dicionários\n",
    "\n",
    "#arquivo geojson piaui\n",
    "\n",
    "f = open('piaui.geojson')\n",
    "data1 = json.load(f)\n",
    "f.close()\n",
    "\n",
    "#arquivo geojson secas\n",
    "\n",
    "f = open('seca2015.geojson')\n",
    "data2 = json.load(f)\n",
    "f.close()\n",
    "\n",
    "#arquivo geojson renda\n",
    "\n",
    "f = open('rend_1_2.geojson')\n",
    "data3 = json.load(f)\n",
    "f.close()"
   ]
  },
  {
   "cell_type": "markdown",
   "id": "f735f61d",
   "metadata": {},
   "source": [
    "## II - Criando o banco de dados"
   ]
  },
  {
   "cell_type": "markdown",
   "id": "087e71dc",
   "metadata": {},
   "source": [
    "Vamos criar um banco de dados NoSQL no Mongodb e armazenar os dados nele"
   ]
  },
  {
   "cell_type": "code",
   "execution_count": 3,
   "id": "32934399",
   "metadata": {},
   "outputs": [],
   "source": [
    "import datetime\n",
    "import pprint\n",
    "\n",
    "import pymongo\n",
    "from pymongo import MongoClient"
   ]
  },
  {
   "cell_type": "code",
   "execution_count": 4,
   "id": "1696298e",
   "metadata": {},
   "outputs": [],
   "source": [
    "client = MongoClient('localhost', 27017)"
   ]
  },
  {
   "cell_type": "markdown",
   "id": "31d3bde3",
   "metadata": {},
   "source": [
    "### Criação do banco e das coleções"
   ]
  },
  {
   "cell_type": "code",
   "execution_count": 6,
   "id": "005d037a",
   "metadata": {},
   "outputs": [],
   "source": [
    "#criando o banco\n",
    "\n",
    "db = client.a2_database\n",
    "\n",
    "#criando as coleções\n",
    "\n",
    "collection1 = db.piaui_data \n",
    "collection2 = db.secas_data\n",
    "collection3 = db.renda_data"
   ]
  },
  {
   "cell_type": "markdown",
   "id": "2fcfa036",
   "metadata": {},
   "source": [
    "\n",
    "A seguir, iremos inserir os documentos dos arquivos que capturamos nas coleções criadas, como sugerido pelos nomes das mesmas.\n",
    "\n",
    "### Armazenando os documentos no banco de dados"
   ]
  },
  {
   "cell_type": "code",
   "execution_count": 5,
   "id": "63999756",
   "metadata": {},
   "outputs": [],
   "source": [
    "#a série de documentos de cada geojson está na chave 'feature' de cada dict que carregamos anteriormente\n",
    "\n",
    "piaui_features = data1['features']\n",
    "secas_features = data2['features']\n",
    "renda_features = data3['features']\n",
    "\n",
    "#agora vamos adicionar os documentos às coleções e salvar os ids em 3 variáveis, como vimos em aula\n",
    "\n",
    "results1 = collection1.insert_many(piaui_features)\n",
    "results2 = collection2.insert_many(secas_features)\n",
    "results3 = collection3.insert_many(renda_features)"
   ]
  },
  {
   "cell_type": "markdown",
   "id": "3e46ae82",
   "metadata": {},
   "source": [
    "\n",
    "Verificando se as coleções e o banco já aparecem, para ter certeza de que os documentos foram adicionados"
   ]
  },
  {
   "cell_type": "code",
   "execution_count": 7,
   "id": "175a424f",
   "metadata": {},
   "outputs": [
    {
     "name": "stdout",
     "output_type": "stream",
     "text": [
      "['a2_database', 'admin', 'config', 'local', 'test_database']\n",
      "['secas_data', 'renda_data', 'piaui_data']\n"
     ]
    }
   ],
   "source": [
    "print(client.list_database_names())\n",
    "print(db.list_collection_names())"
   ]
  },
  {
   "cell_type": "markdown",
   "id": "efce9747",
   "metadata": {},
   "source": [
    "\n",
    "Só pra ter **realmente** certeza que adicionamos corretamente, vamos fazer uma querry procurando nossa cidade na coleção com os municípios do Piauí"
   ]
  },
  {
   "cell_type": "code",
   "execution_count": 8,
   "id": "61a8653a",
   "metadata": {},
   "outputs": [
    {
     "data": {
      "text/plain": [
       "{'_id': ObjectId('61b57bdca9ea537ddb91589f'),\n",
       " 'type': 'Feature',\n",
       " 'properties': {'id': '2202729',\n",
       "  'name': 'Cocal dos Alves',\n",
       "  'description': 'Cocal dos Alves'},\n",
       " 'geometry': {'type': 'Polygon',\n",
       "  'coordinates': [[[-41.3951733336, -3.5471106105],\n",
       "    [-41.3671198987, -3.5615461774],\n",
       "    [-41.3708712137, -3.5674193404],\n",
       "    [-41.3702509211, -3.5744918938],\n",
       "    [-41.3616333511, -3.5828053967],\n",
       "    [-41.3528629563, -3.5852117234],\n",
       "    [-41.3445294278, -3.588364419],\n",
       "    [-41.3309408875, -3.6243095073],\n",
       "    [-41.338722564, -3.6700448706],\n",
       "    [-41.3433179904, -3.6755980044],\n",
       "    [-41.3413730721, -3.680397353],\n",
       "    [-41.3261682973, -3.6869442306],\n",
       "    [-41.3072902171, -3.6844280624],\n",
       "    [-41.2904264133, -3.6893136429],\n",
       "    [-41.2789599905, -3.7003719703],\n",
       "    [-41.2550582488, -3.7028847004],\n",
       "    [-41.2389650459, -3.7122698754],\n",
       "    [-41.2390555161, -3.7203740815],\n",
       "    [-41.2515145908, -3.7229642052],\n",
       "    [-41.256988741, -3.7295248631],\n",
       "    [-41.2608087009, -3.7571667961],\n",
       "    [-41.2782192275, -3.7696236308],\n",
       "    [-41.3129051244, -3.7390482577],\n",
       "    [-41.3344305908, -3.690839575],\n",
       "    [-41.3707116443, -3.7179748624],\n",
       "    [-41.4105207647, -3.7477557991],\n",
       "    [-41.4421229599, -3.7714027857],\n",
       "    [-41.4550648634, -3.7194735157],\n",
       "    [-41.4293780454, -3.7088163985],\n",
       "    [-41.4330440233, -3.698321184],\n",
       "    [-41.4336353803, -3.6966302612],\n",
       "    [-41.4443063032, -3.6660681897],\n",
       "    [-41.4896628966, -3.6638773632],\n",
       "    [-41.4594099626, -3.6266427706],\n",
       "    [-41.514897053, -3.6138050217],\n",
       "    [-41.5211084328, -3.6047022026],\n",
       "    [-41.5026255946, -3.5923288666],\n",
       "    [-41.5123603197, -3.5824375015],\n",
       "    [-41.5176189301, -3.5672348274],\n",
       "    [-41.5175456532, -3.5669988707],\n",
       "    [-41.4851435746, -3.5521795144],\n",
       "    [-41.4698540875, -3.5510100878],\n",
       "    [-41.4589423574, -3.549148058],\n",
       "    [-41.4526222169, -3.5514141361],\n",
       "    [-41.4276367946, -3.5461147409],\n",
       "    [-41.4281405992, -3.5349670861],\n",
       "    [-41.4178470246, -3.5232534867],\n",
       "    [-41.3951733336, -3.5471106105]]]}}"
      ]
     },
     "execution_count": 8,
     "metadata": {},
     "output_type": "execute_result"
    }
   ],
   "source": [
    "collection1.find_one({'properties.name': 'Cocal dos Alves'})"
   ]
  },
  {
   "cell_type": "markdown",
   "id": "ce413909",
   "metadata": {},
   "source": [
    "## III - Análise utilizando [geopandas](https://geopandas.org/en/stable/)"
   ]
  },
  {
   "cell_type": "markdown",
   "id": "399e5106",
   "metadata": {},
   "source": [
    "Agora iremos fazer uma análise dos dados utilizando geopandas.\n",
    "\n",
    "Para isso, transformaremos as coleções em GeoDataFrames do geopandas:"
   ]
  },
  {
   "cell_type": "code",
   "execution_count": 1,
   "id": "d139fb1c",
   "metadata": {},
   "outputs": [],
   "source": [
    "#Importando bibliotecas necessárias para a análise (vimos na enciclopédia de python do professor)\n",
    "#https://github.com/rsouza/FGV_Intro_DS/blob/master/notebooks/Tasks_Mapping_Geopandas.ipynb\n",
    "\n",
    "import math\n",
    "import time\n",
    "import numpy as np\n",
    "import pandas as pd\n",
    "import matplotlib.pyplot as plt\n",
    "\n",
    "import descartes\n",
    "import rtree \n",
    "\n",
    "import geopandas as gpd\n",
    "from geopandas.tools import geocode\n",
    "\n",
    "from shapely.geometry import LineString, MultiPolygon\n",
    "\n",
    "import folium\n",
    "from folium import Choropleth, Circle, Marker, GeoJson\n",
    "from folium.plugins import HeatMap, MarkerCluster\n",
    "\n",
    "from IPython.display import Image, HTML, IFrame, FileLink, FileLinks \n",
    "from IPython.core.display import display"
   ]
  },
  {
   "cell_type": "markdown",
   "id": "5da5a2ec",
   "metadata": {},
   "source": [
    "### Obtendo GeoDataFrames das coleções que criamos anteriormente"
   ]
  },
  {
   "cell_type": "code",
   "execution_count": 9,
   "id": "6f984545",
   "metadata": {},
   "outputs": [],
   "source": [
    "#Agora vamos transformar as nossas coleções em geodataframes para que possamos fazer as análises\n",
    "\n",
    "#df limites municípios do piauí\n",
    "df_piaui = gpd.GeoDataFrame(list(collection1.find({})))\n",
    "\n",
    "#df municípios que sofreram com seca em 2015\n",
    "df_secas = gpd.GeoDataFrame(list(collection2.find({})))\n",
    "\n",
    "#df qntd pessoas com 1 a 2 rendas que moram em domicílios particulares\n",
    "df_renda = gpd.GeoDataFrame(list(collection3.find({})))"
   ]
  },
  {
   "cell_type": "markdown",
   "id": "53886589",
   "metadata": {},
   "source": [
    "Dando uma olhadinha:"
   ]
  },
  {
   "cell_type": "code",
   "execution_count": 15,
   "id": "53cf33c4",
   "metadata": {},
   "outputs": [
    {
     "name": "stdout",
     "output_type": "stream",
     "text": [
      "<class 'geopandas.geodataframe.GeoDataFrame'>\n"
     ]
    },
    {
     "data": {
      "text/html": [
       "<div>\n",
       "<style scoped>\n",
       "    .dataframe tbody tr th:only-of-type {\n",
       "        vertical-align: middle;\n",
       "    }\n",
       "\n",
       "    .dataframe tbody tr th {\n",
       "        vertical-align: top;\n",
       "    }\n",
       "\n",
       "    .dataframe thead th {\n",
       "        text-align: right;\n",
       "    }\n",
       "</style>\n",
       "<table border=\"1\" class=\"dataframe\">\n",
       "  <thead>\n",
       "    <tr style=\"text-align: right;\">\n",
       "      <th></th>\n",
       "      <th>_id</th>\n",
       "      <th>type</th>\n",
       "      <th>properties</th>\n",
       "      <th>geometry</th>\n",
       "    </tr>\n",
       "  </thead>\n",
       "  <tbody>\n",
       "    <tr>\n",
       "      <th>0</th>\n",
       "      <td>61b57bdca9ea537ddb915865</td>\n",
       "      <td>Feature</td>\n",
       "      <td>{'id': '2200053', 'name': 'Acauã', 'descriptio...</td>\n",
       "      <td>{'type': 'Polygon', 'coordinates': [[[-40.9597...</td>\n",
       "    </tr>\n",
       "    <tr>\n",
       "      <th>1</th>\n",
       "      <td>61b57bdca9ea537ddb915866</td>\n",
       "      <td>Feature</td>\n",
       "      <td>{'id': '2200103', 'name': 'Agricolândia', 'des...</td>\n",
       "      <td>{'type': 'Polygon', 'coordinates': [[[-42.6712...</td>\n",
       "    </tr>\n",
       "    <tr>\n",
       "      <th>2</th>\n",
       "      <td>61b57bdca9ea537ddb915867</td>\n",
       "      <td>Feature</td>\n",
       "      <td>{'id': '2200202', 'name': 'Água Branca', 'desc...</td>\n",
       "      <td>{'type': 'Polygon', 'coordinates': [[[-42.6618...</td>\n",
       "    </tr>\n",
       "    <tr>\n",
       "      <th>3</th>\n",
       "      <td>61b57bdca9ea537ddb915868</td>\n",
       "      <td>Feature</td>\n",
       "      <td>{'id': '2200251', 'name': 'Alagoinha do Piauí'...</td>\n",
       "      <td>{'type': 'Polygon', 'coordinates': [[[-40.8840...</td>\n",
       "    </tr>\n",
       "    <tr>\n",
       "      <th>4</th>\n",
       "      <td>61b57bdca9ea537ddb915869</td>\n",
       "      <td>Feature</td>\n",
       "      <td>{'id': '2200277', 'name': 'Alegrete do Piauí',...</td>\n",
       "      <td>{'type': 'Polygon', 'coordinates': [[[-40.7888...</td>\n",
       "    </tr>\n",
       "  </tbody>\n",
       "</table>\n",
       "</div>"
      ],
      "text/plain": [
       "                        _id     type  \\\n",
       "0  61b57bdca9ea537ddb915865  Feature   \n",
       "1  61b57bdca9ea537ddb915866  Feature   \n",
       "2  61b57bdca9ea537ddb915867  Feature   \n",
       "3  61b57bdca9ea537ddb915868  Feature   \n",
       "4  61b57bdca9ea537ddb915869  Feature   \n",
       "\n",
       "                                          properties  \\\n",
       "0  {'id': '2200053', 'name': 'Acauã', 'descriptio...   \n",
       "1  {'id': '2200103', 'name': 'Agricolândia', 'des...   \n",
       "2  {'id': '2200202', 'name': 'Água Branca', 'desc...   \n",
       "3  {'id': '2200251', 'name': 'Alagoinha do Piauí'...   \n",
       "4  {'id': '2200277', 'name': 'Alegrete do Piauí',...   \n",
       "\n",
       "                                            geometry  \n",
       "0  {'type': 'Polygon', 'coordinates': [[[-40.9597...  \n",
       "1  {'type': 'Polygon', 'coordinates': [[[-42.6712...  \n",
       "2  {'type': 'Polygon', 'coordinates': [[[-42.6618...  \n",
       "3  {'type': 'Polygon', 'coordinates': [[[-40.8840...  \n",
       "4  {'type': 'Polygon', 'coordinates': [[[-40.7888...  "
      ]
     },
     "execution_count": 15,
     "metadata": {},
     "output_type": "execute_result"
    }
   ],
   "source": [
    "print(type(df_piaui))\n",
    "df_piaui.head()"
   ]
  },
  {
   "cell_type": "code",
   "execution_count": null,
   "id": "8f3cc661",
   "metadata": {},
   "outputs": [],
   "source": []
  }
 ],
 "metadata": {
  "kernelspec": {
   "display_name": "Python 3 (ipykernel)",
   "language": "python",
   "name": "python3"
  },
  "language_info": {
   "codemirror_mode": {
    "name": "ipython",
    "version": 3
   },
   "file_extension": ".py",
   "mimetype": "text/x-python",
   "name": "python",
   "nbconvert_exporter": "python",
   "pygments_lexer": "ipython3",
   "version": "3.9.7"
  }
 },
 "nbformat": 4,
 "nbformat_minor": 5
}
