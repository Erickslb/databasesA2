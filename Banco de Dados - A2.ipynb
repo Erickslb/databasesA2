{
 "cells": [
  {
   "cell_type": "markdown",
   "id": "9f3fb0e2",
   "metadata": {},
   "source": [
    "# Banco de Dados - A2 "
   ]
  },
  {
   "cell_type": "markdown",
   "id": "924ec286",
   "metadata": {},
   "source": [
    "## I - Carregando os dados capturados"
   ]
  },
  {
   "cell_type": "markdown",
   "id": "c9b5eb82",
   "metadata": {},
   "source": [
    "Capturamos 3 arquivos geojson que serão utilizados para a nossa tarefa:\n",
    "\n",
    "+ [Arquivo do perímetro do estado do Piauí](https://github.com/tbrugz/geodata-br)\n",
    "+ [Arquivo com municípios atingidos por seca em 2015](https://dados.gov.br/dataset/municipios-atingidos-por-eventos-de-seca-em-2015)\n",
    "+ [Arquivo com o percentual de moradores em domicílios particulares com 1 a 2 salários](https://dados.gov.br/dataset/cgeo_vw_perc_morad_rend_1_a_2)"
   ]
  },
  {
   "cell_type": "code",
   "execution_count": 1,
   "id": "096fe3f8",
   "metadata": {},
   "outputs": [],
   "source": [
    "import json #carregaremos os geojsons em dicionários\n",
    "import geojson\n",
    "\n",
    "#arquivo geojson piaui\n",
    "\n",
    "f = open('piaui.geojson')\n",
    "data1 = geojson.load(f)\n",
    "f.close()\n",
    "\n",
    "#arquivo geojson secas\n",
    "\n",
    "f = open('seca2015.geojson')\n",
    "data2 = geojson.load(f)\n",
    "f.close()\n",
    "\n",
    "#arquivo geojson renda\n",
    "\n",
    "f = open('rend_1_2.geojson')\n",
    "data3 = geojson.load(f)\n",
    "f.close()"
   ]
  },
  {
   "cell_type": "markdown",
   "id": "f735f61d",
   "metadata": {},
   "source": [
    "## II - Criando o banco de dados"
   ]
  },
  {
   "cell_type": "markdown",
   "id": "087e71dc",
   "metadata": {},
   "source": [
    "Vamos criar um banco de dados NoSQL no Mongodb e armazenar os dados nele"
   ]
  },
  {
   "cell_type": "code",
   "execution_count": 14,
   "id": "32934399",
   "metadata": {},
   "outputs": [],
   "source": [
    "import datetime\n",
    "import pprint\n",
    "\n",
    "import pymongo\n",
    "from pymongo import MongoClient"
   ]
  },
  {
   "cell_type": "code",
   "execution_count": 15,
   "id": "1696298e",
   "metadata": {},
   "outputs": [],
   "source": [
    "client = MongoClient('localhost', 27017)"
   ]
  },
  {
   "cell_type": "markdown",
   "id": "411fccc7",
   "metadata": {},
   "source": [
    "### Criação do banco e das coleções"
   ]
  },
  {
   "cell_type": "code",
   "execution_count": 16,
   "id": "005d037a",
   "metadata": {},
   "outputs": [],
   "source": [
    "#criando o banco\n",
    "\n",
    "db = client.a2_database\n",
    "\n",
    "#criando as coleções\n",
    "\n",
    "collection1 = db.piaui_data \n",
    "collection2 = db.secas_data\n",
    "collection3 = db.renda_data"
   ]
  },
  {
   "cell_type": "markdown",
   "id": "2fcfa036",
   "metadata": {},
   "source": [
    "\n",
    "A seguir, iremos inserir os documentos dos arquivos que capturamos nas coleções criadas, como sugerido pelos nomes das mesmas.\n",
    "\n",
    "### Armazenando os documentos no banco de dados"
   ]
  },
  {
   "cell_type": "code",
   "execution_count": 21,
   "id": "63999756",
   "metadata": {},
   "outputs": [],
   "source": [
    "#a série de documentos de cada geojson está na chave 'feature' de cada dict que carregamos anteriormente\n",
    "\n",
    "piaui_features = data1['features']\n",
    "secas_features = data2['features']\n",
    "renda_features = data3['features']\n",
    "\n",
    "#agora vamos adicionar os documentos às coleções e salvar os ids em 3 variáveis, como vimos em aula\n",
    "\n",
    "results1 = collection1.insert_many(piaui_features)\n",
    "results2 = collection2.insert_many(secas_features)\n",
    "results3 = collection3.insert_many(renda_features)"
   ]
  },
  {
   "cell_type": "markdown",
   "id": "3e46ae82",
   "metadata": {},
   "source": [
    "\n",
    "Verificando se as coleções e o banco já aparecem, para ter certeza de que os documentos foram adicionados"
   ]
  },
  {
   "cell_type": "code",
   "execution_count": 22,
   "id": "175a424f",
   "metadata": {},
   "outputs": [
    {
     "name": "stdout",
     "output_type": "stream",
     "text": [
      "['a2_database', 'admin', 'config', 'local', 'test_database']\n",
      "['renda_data', 'secas_data', 'piaui_data']\n"
     ]
    }
   ],
   "source": [
    "print(client.list_database_names())\n",
    "print(db.list_collection_names())"
   ]
  },
  {
   "cell_type": "markdown",
   "id": "efce9747",
   "metadata": {},
   "source": [
    "\n",
    "Só pra ter **realmente** certeza que adicionamos corretamente, vamos fazer uma querry procurando nossa cidade na coleção com os municípios do Piauí"
   ]
  },
  {
   "cell_type": "code",
   "execution_count": 23,
   "id": "61a8653a",
   "metadata": {},
   "outputs": [
    {
     "data": {
      "text/plain": [
       "{'_id': ObjectId('61b8226e0ec09d90e54d8d70'),\n",
       " 'type': 'Feature',\n",
       " 'geometry': {'type': 'Polygon',\n",
       "  'coordinates': [[[-41.395173, -3.547111],\n",
       "    [-41.36712, -3.561546],\n",
       "    [-41.370871, -3.567419],\n",
       "    [-41.370251, -3.574492],\n",
       "    [-41.361633, -3.582805],\n",
       "    [-41.352863, -3.585212],\n",
       "    [-41.344529, -3.588364],\n",
       "    [-41.330941, -3.62431],\n",
       "    [-41.338723, -3.670045],\n",
       "    [-41.343318, -3.675598],\n",
       "    [-41.341373, -3.680397],\n",
       "    [-41.326168, -3.686944],\n",
       "    [-41.30729, -3.684428],\n",
       "    [-41.290426, -3.689314],\n",
       "    [-41.27896, -3.700372],\n",
       "    [-41.255058, -3.702885],\n",
       "    [-41.238965, -3.71227],\n",
       "    [-41.239056, -3.720374],\n",
       "    [-41.251515, -3.722964],\n",
       "    [-41.256989, -3.729525],\n",
       "    [-41.260809, -3.757167],\n",
       "    [-41.278219, -3.769624],\n",
       "    [-41.312905, -3.739048],\n",
       "    [-41.334431, -3.69084],\n",
       "    [-41.370712, -3.717975],\n",
       "    [-41.410521, -3.747756],\n",
       "    [-41.442123, -3.771403],\n",
       "    [-41.455065, -3.719474],\n",
       "    [-41.429378, -3.708816],\n",
       "    [-41.433044, -3.698321],\n",
       "    [-41.433635, -3.69663],\n",
       "    [-41.444306, -3.666068],\n",
       "    [-41.489663, -3.663877],\n",
       "    [-41.45941, -3.626643],\n",
       "    [-41.514897, -3.613805],\n",
       "    [-41.521108, -3.604702],\n",
       "    [-41.502626, -3.592329],\n",
       "    [-41.51236, -3.582438],\n",
       "    [-41.517619, -3.567235],\n",
       "    [-41.517546, -3.566999],\n",
       "    [-41.485144, -3.55218],\n",
       "    [-41.469854, -3.55101],\n",
       "    [-41.458942, -3.549148],\n",
       "    [-41.452622, -3.551414],\n",
       "    [-41.427637, -3.546115],\n",
       "    [-41.428141, -3.534967],\n",
       "    [-41.417847, -3.523253],\n",
       "    [-41.395173, -3.547111]]]},\n",
       " 'properties': {'id': '2202729',\n",
       "  'name': 'Cocal dos Alves',\n",
       "  'description': 'Cocal dos Alves'}}"
      ]
     },
     "execution_count": 23,
     "metadata": {},
     "output_type": "execute_result"
    }
   ],
   "source": [
    "collection1.find_one({'properties.name': 'Cocal dos Alves'})"
   ]
  },
  {
   "cell_type": "markdown",
   "id": "34a41aea",
   "metadata": {},
   "source": [
    "## III - Análise utilizando [geopandas](https://geopandas.org/en/stable/)"
   ]
  },
  {
   "cell_type": "markdown",
   "id": "07a8decf",
   "metadata": {},
   "source": [
    "Agora iremos fazer uma análise dos dados utilizando geopandas.\n",
    "\n",
    "Para isso, transformaremos as coleções em GeoDataFrames do geopandas:"
   ]
  },
  {
   "cell_type": "code",
   "execution_count": 2,
   "id": "bb92240a",
   "metadata": {},
   "outputs": [],
   "source": [
    "#Importando bibliotecas necessárias para a análise (vimos na enciclopédia de python do professor)\n",
    "#https://github.com/rsouza/FGV_Intro_DS/blob/master/notebooks/Tasks_Mapping_Geopandas.ipynb\n",
    "\n",
    "import math\n",
    "import time\n",
    "import numpy as np\n",
    "import pandas as pd\n",
    "import matplotlib.pyplot as plt\n",
    "\n",
    "import descartes\n",
    "import rtree \n",
    "\n",
    "import geopandas as gpd\n",
    "from geopandas.tools import geocode\n",
    "\n",
    "from shapely.geometry import LineString, MultiPolygon, shape\n",
    "\n",
    "import folium\n",
    "from folium import Choropleth, Circle, Marker, GeoJson\n",
    "from folium.plugins import HeatMap, MarkerCluster\n",
    "\n",
    "from IPython.display import Image, HTML, IFrame, FileLink, FileLinks \n",
    "from IPython.core.display import display"
   ]
  },
  {
   "cell_type": "markdown",
   "id": "37862eef",
   "metadata": {},
   "source": [
    "### Obtendo GeoDataFrames dos dados que carregamos anteriormente"
   ]
  },
  {
   "cell_type": "code",
   "execution_count": 3,
   "id": "03658c5f",
   "metadata": {},
   "outputs": [],
   "source": [
    "#df limites municípios do piauí\n",
    "gdf_piaui = gpd.GeoDataFrame(data1['features'])\n",
    "\n",
    "#df municípios que sofreram com seca em 2015\n",
    "gdf_secas = gpd.GeoDataFrame(data2['features'])\n",
    "\n",
    "#df qntd pessoas com 1 a 2 rendas que moram em domicílios particulares\n",
    "gdf_renda = gpd.GeoDataFrame(data3['features'])"
   ]
  },
  {
   "cell_type": "markdown",
   "id": "344cde5f",
   "metadata": {},
   "source": [
    "Dando uma olhadinha..."
   ]
  },
  {
   "cell_type": "code",
   "execution_count": 26,
   "id": "1373052f",
   "metadata": {},
   "outputs": [
    {
     "name": "stdout",
     "output_type": "stream",
     "text": [
      "<class 'geopandas.geodataframe.GeoDataFrame'>\n"
     ]
    },
    {
     "data": {
      "text/html": [
       "<div>\n",
       "<style scoped>\n",
       "    .dataframe tbody tr th:only-of-type {\n",
       "        vertical-align: middle;\n",
       "    }\n",
       "\n",
       "    .dataframe tbody tr th {\n",
       "        vertical-align: top;\n",
       "    }\n",
       "\n",
       "    .dataframe thead th {\n",
       "        text-align: right;\n",
       "    }\n",
       "</style>\n",
       "<table border=\"1\" class=\"dataframe\">\n",
       "  <thead>\n",
       "    <tr style=\"text-align: right;\">\n",
       "      <th></th>\n",
       "      <th>type</th>\n",
       "      <th>geometry</th>\n",
       "      <th>properties</th>\n",
       "      <th>_id</th>\n",
       "    </tr>\n",
       "  </thead>\n",
       "  <tbody>\n",
       "    <tr>\n",
       "      <th>0</th>\n",
       "      <td>Feature</td>\n",
       "      <td>POLYGON ((-40.95978 -8.10661, -40.95798 -8.111...</td>\n",
       "      <td>{'id': '2200053', 'name': 'Acauã', 'descriptio...</td>\n",
       "      <td>61b8226e0ec09d90e54d8d36</td>\n",
       "    </tr>\n",
       "    <tr>\n",
       "      <th>1</th>\n",
       "      <td>Feature</td>\n",
       "      <td>POLYGON ((-42.67126 -5.71153, -42.66951 -5.716...</td>\n",
       "      <td>{'id': '2200103', 'name': 'Agricolândia', 'des...</td>\n",
       "      <td>61b8226e0ec09d90e54d8d37</td>\n",
       "    </tr>\n",
       "    <tr>\n",
       "      <th>2</th>\n",
       "      <td>Feature</td>\n",
       "      <td>POLYGON ((-42.66187 -5.95199, -42.68579 -5.958...</td>\n",
       "      <td>{'id': '2200202', 'name': 'Água Branca', 'desc...</td>\n",
       "      <td>61b8226e0ec09d90e54d8d38</td>\n",
       "    </tr>\n",
       "    <tr>\n",
       "      <th>3</th>\n",
       "      <td>Feature</td>\n",
       "      <td>POLYGON ((-40.88404 -6.78987, -40.88244 -6.792...</td>\n",
       "      <td>{'id': '2200251', 'name': 'Alagoinha do Piauí'...</td>\n",
       "      <td>61b8226e0ec09d90e54d8d39</td>\n",
       "    </tr>\n",
       "    <tr>\n",
       "      <th>4</th>\n",
       "      <td>Feature</td>\n",
       "      <td>POLYGON ((-40.78886 -7.11598, -40.78030 -7.133...</td>\n",
       "      <td>{'id': '2200277', 'name': 'Alegrete do Piauí',...</td>\n",
       "      <td>61b8226e0ec09d90e54d8d3a</td>\n",
       "    </tr>\n",
       "  </tbody>\n",
       "</table>\n",
       "</div>"
      ],
      "text/plain": [
       "      type                                           geometry  \\\n",
       "0  Feature  POLYGON ((-40.95978 -8.10661, -40.95798 -8.111...   \n",
       "1  Feature  POLYGON ((-42.67126 -5.71153, -42.66951 -5.716...   \n",
       "2  Feature  POLYGON ((-42.66187 -5.95199, -42.68579 -5.958...   \n",
       "3  Feature  POLYGON ((-40.88404 -6.78987, -40.88244 -6.792...   \n",
       "4  Feature  POLYGON ((-40.78886 -7.11598, -40.78030 -7.133...   \n",
       "\n",
       "                                          properties                       _id  \n",
       "0  {'id': '2200053', 'name': 'Acauã', 'descriptio...  61b8226e0ec09d90e54d8d36  \n",
       "1  {'id': '2200103', 'name': 'Agricolândia', 'des...  61b8226e0ec09d90e54d8d37  \n",
       "2  {'id': '2200202', 'name': 'Água Branca', 'desc...  61b8226e0ec09d90e54d8d38  \n",
       "3  {'id': '2200251', 'name': 'Alagoinha do Piauí'...  61b8226e0ec09d90e54d8d39  \n",
       "4  {'id': '2200277', 'name': 'Alegrete do Piauí',...  61b8226e0ec09d90e54d8d3a  "
      ]
     },
     "execution_count": 26,
     "metadata": {},
     "output_type": "execute_result"
    }
   ],
   "source": [
    "print(type(gdf_piaui))\n",
    "gdf_piaui.head()"
   ]
  },
  {
   "cell_type": "markdown",
   "id": "6319a5ce",
   "metadata": {},
   "source": [
    "### Deixando os GeoDataFrames prontos para análise"
   ]
  },
  {
   "cell_type": "markdown",
   "id": "88087de8",
   "metadata": {},
   "source": [
    "Como vimos na pŕevia acima, os gdf ainda estão apresentando uma coluna properties com as informações importantes para as análises, então, nessa seção estaremos apenas deixando eles prontos para que possamos começar.\n",
    "\n",
    "_Ignore esta parte_"
   ]
  },
  {
   "cell_type": "code",
   "execution_count": 5,
   "id": "4f17987c",
   "metadata": {},
   "outputs": [
    {
     "data": {
      "text/plain": [
       "{'id': '2200053', 'name': 'Acauã', 'description': 'Acauã'}"
      ]
     },
     "execution_count": 5,
     "metadata": {},
     "output_type": "execute_result"
    }
   ],
   "source": [
    "gdf_piaui['properties'][0]"
   ]
  },
  {
   "cell_type": "code",
   "execution_count": 9,
   "id": "9540039c",
   "metadata": {},
   "outputs": [],
   "source": [
    "gdf_piaui['municipio'] = gdf_piaui['properties'].apply(lambda x: x['name'])"
   ]
  },
  {
   "cell_type": "code",
   "execution_count": 10,
   "id": "16bec811",
   "metadata": {},
   "outputs": [
    {
     "data": {
      "text/html": [
       "<div>\n",
       "<style scoped>\n",
       "    .dataframe tbody tr th:only-of-type {\n",
       "        vertical-align: middle;\n",
       "    }\n",
       "\n",
       "    .dataframe tbody tr th {\n",
       "        vertical-align: top;\n",
       "    }\n",
       "\n",
       "    .dataframe thead th {\n",
       "        text-align: right;\n",
       "    }\n",
       "</style>\n",
       "<table border=\"1\" class=\"dataframe\">\n",
       "  <thead>\n",
       "    <tr style=\"text-align: right;\">\n",
       "      <th></th>\n",
       "      <th>type</th>\n",
       "      <th>geometry</th>\n",
       "      <th>properties</th>\n",
       "      <th>municipio</th>\n",
       "    </tr>\n",
       "  </thead>\n",
       "  <tbody>\n",
       "    <tr>\n",
       "      <th>0</th>\n",
       "      <td>Feature</td>\n",
       "      <td>POLYGON ((-40.95978 -8.10661, -40.95798 -8.111...</td>\n",
       "      <td>{'id': '2200053', 'name': 'Acauã', 'descriptio...</td>\n",
       "      <td>Acauã</td>\n",
       "    </tr>\n",
       "    <tr>\n",
       "      <th>1</th>\n",
       "      <td>Feature</td>\n",
       "      <td>POLYGON ((-42.67126 -5.71153, -42.66951 -5.716...</td>\n",
       "      <td>{'id': '2200103', 'name': 'Agricolândia', 'des...</td>\n",
       "      <td>Agricolândia</td>\n",
       "    </tr>\n",
       "    <tr>\n",
       "      <th>2</th>\n",
       "      <td>Feature</td>\n",
       "      <td>POLYGON ((-42.66187 -5.95199, -42.68579 -5.958...</td>\n",
       "      <td>{'id': '2200202', 'name': 'Água Branca', 'desc...</td>\n",
       "      <td>Água Branca</td>\n",
       "    </tr>\n",
       "    <tr>\n",
       "      <th>3</th>\n",
       "      <td>Feature</td>\n",
       "      <td>POLYGON ((-40.88404 -6.78987, -40.88244 -6.792...</td>\n",
       "      <td>{'id': '2200251', 'name': 'Alagoinha do Piauí'...</td>\n",
       "      <td>Alagoinha do Piauí</td>\n",
       "    </tr>\n",
       "    <tr>\n",
       "      <th>4</th>\n",
       "      <td>Feature</td>\n",
       "      <td>POLYGON ((-40.78886 -7.11598, -40.78030 -7.133...</td>\n",
       "      <td>{'id': '2200277', 'name': 'Alegrete do Piauí',...</td>\n",
       "      <td>Alegrete do Piauí</td>\n",
       "    </tr>\n",
       "  </tbody>\n",
       "</table>\n",
       "</div>"
      ],
      "text/plain": [
       "      type                                           geometry  \\\n",
       "0  Feature  POLYGON ((-40.95978 -8.10661, -40.95798 -8.111...   \n",
       "1  Feature  POLYGON ((-42.67126 -5.71153, -42.66951 -5.716...   \n",
       "2  Feature  POLYGON ((-42.66187 -5.95199, -42.68579 -5.958...   \n",
       "3  Feature  POLYGON ((-40.88404 -6.78987, -40.88244 -6.792...   \n",
       "4  Feature  POLYGON ((-40.78886 -7.11598, -40.78030 -7.133...   \n",
       "\n",
       "                                          properties           municipio  \n",
       "0  {'id': '2200053', 'name': 'Acauã', 'descriptio...               Acauã  \n",
       "1  {'id': '2200103', 'name': 'Agricolândia', 'des...        Agricolândia  \n",
       "2  {'id': '2200202', 'name': 'Água Branca', 'desc...         Água Branca  \n",
       "3  {'id': '2200251', 'name': 'Alagoinha do Piauí'...  Alagoinha do Piauí  \n",
       "4  {'id': '2200277', 'name': 'Alegrete do Piauí',...   Alegrete do Piauí  "
      ]
     },
     "execution_count": 10,
     "metadata": {},
     "output_type": "execute_result"
    }
   ],
   "source": [
    "gdf_piaui.head()"
   ]
  },
  {
   "cell_type": "code",
   "execution_count": 6,
   "id": "fa917dfa",
   "metadata": {},
   "outputs": [
    {
     "data": {
      "text/html": [
       "<div>\n",
       "<style scoped>\n",
       "    .dataframe tbody tr th:only-of-type {\n",
       "        vertical-align: middle;\n",
       "    }\n",
       "\n",
       "    .dataframe tbody tr th {\n",
       "        vertical-align: top;\n",
       "    }\n",
       "\n",
       "    .dataframe thead th {\n",
       "        text-align: right;\n",
       "    }\n",
       "</style>\n",
       "<table border=\"1\" class=\"dataframe\">\n",
       "  <thead>\n",
       "    <tr style=\"text-align: right;\">\n",
       "      <th></th>\n",
       "      <th>type</th>\n",
       "      <th>geometry</th>\n",
       "      <th>properties</th>\n",
       "    </tr>\n",
       "  </thead>\n",
       "  <tbody>\n",
       "    <tr>\n",
       "      <th>0</th>\n",
       "      <td>Feature</td>\n",
       "      <td>POLYGON ((-61.40930 2.02290, -61.41369 2.02543...</td>\n",
       "      <td>{'OBJECTID': 1, 'NM_MUNICIP': 'CARACARAÍ', 'CD...</td>\n",
       "    </tr>\n",
       "    <tr>\n",
       "      <th>1</th>\n",
       "      <td>Feature</td>\n",
       "      <td>POLYGON ((-61.33730 4.31159, -61.33787 4.31250...</td>\n",
       "      <td>{'OBJECTID': 2, 'NM_MUNICIP': 'AMAJARI', 'CD_G...</td>\n",
       "    </tr>\n",
       "    <tr>\n",
       "      <th>2</th>\n",
       "      <td>Feature</td>\n",
       "      <td>POLYGON ((-63.61441 3.73768, -63.62546 3.74067...</td>\n",
       "      <td>{'OBJECTID': 3, 'NM_MUNICIP': 'ALTO ALEGRE', '...</td>\n",
       "    </tr>\n",
       "    <tr>\n",
       "      <th>3</th>\n",
       "      <td>Feature</td>\n",
       "      <td>POLYGON ((-59.88384 3.56296, -59.88578 3.56379...</td>\n",
       "      <td>{'OBJECTID': 4, 'NM_MUNICIP': 'BONFIM', 'CD_GE...</td>\n",
       "    </tr>\n",
       "    <tr>\n",
       "      <th>4</th>\n",
       "      <td>Feature</td>\n",
       "      <td>POLYGON ((-60.56198 2.87580, -60.56196 2.87629...</td>\n",
       "      <td>{'OBJECTID': 5, 'NM_MUNICIP': 'CANTÁ', 'CD_GEO...</td>\n",
       "    </tr>\n",
       "  </tbody>\n",
       "</table>\n",
       "</div>"
      ],
      "text/plain": [
       "      type                                           geometry  \\\n",
       "0  Feature  POLYGON ((-61.40930 2.02290, -61.41369 2.02543...   \n",
       "1  Feature  POLYGON ((-61.33730 4.31159, -61.33787 4.31250...   \n",
       "2  Feature  POLYGON ((-63.61441 3.73768, -63.62546 3.74067...   \n",
       "3  Feature  POLYGON ((-59.88384 3.56296, -59.88578 3.56379...   \n",
       "4  Feature  POLYGON ((-60.56198 2.87580, -60.56196 2.87629...   \n",
       "\n",
       "                                          properties  \n",
       "0  {'OBJECTID': 1, 'NM_MUNICIP': 'CARACARAÍ', 'CD...  \n",
       "1  {'OBJECTID': 2, 'NM_MUNICIP': 'AMAJARI', 'CD_G...  \n",
       "2  {'OBJECTID': 3, 'NM_MUNICIP': 'ALTO ALEGRE', '...  \n",
       "3  {'OBJECTID': 4, 'NM_MUNICIP': 'BONFIM', 'CD_GE...  \n",
       "4  {'OBJECTID': 5, 'NM_MUNICIP': 'CANTÁ', 'CD_GEO...  "
      ]
     },
     "execution_count": 6,
     "metadata": {},
     "output_type": "execute_result"
    }
   ],
   "source": [
    "gdf_secas.head()"
   ]
  },
  {
   "cell_type": "code",
   "execution_count": 7,
   "id": "279aa7c6",
   "metadata": {},
   "outputs": [
    {
     "data": {
      "text/plain": [
       "{'OBJECTID': 1,\n",
       " 'NM_MUNICIP': 'CARACARAÍ',\n",
       " 'CD_GEOCMU': '1400209',\n",
       " 'NM_ESTADO': 'RORAIMA',\n",
       " 'SECAS2015': 1}"
      ]
     },
     "execution_count": 7,
     "metadata": {},
     "output_type": "execute_result"
    }
   ],
   "source": [
    "gdf_secas['properties'][0]"
   ]
  },
  {
   "cell_type": "code",
   "execution_count": 12,
   "id": "ed272ad8",
   "metadata": {},
   "outputs": [],
   "source": [
    "gdf_secas['municipio'] = gdf_secas['properties'].apply(lambda x: x['NM_MUNICIP'])\n",
    "gdf_secas['estado'] = gdf_secas['properties'].apply(lambda x: x['NM_ESTADO'])\n",
    "gdf_secas['n_secas'] = gdf_secas['properties'].apply(lambda x: x['SECAS2015'])"
   ]
  },
  {
   "cell_type": "code",
   "execution_count": 13,
   "id": "e05e8779",
   "metadata": {},
   "outputs": [
    {
     "data": {
      "text/html": [
       "<div>\n",
       "<style scoped>\n",
       "    .dataframe tbody tr th:only-of-type {\n",
       "        vertical-align: middle;\n",
       "    }\n",
       "\n",
       "    .dataframe tbody tr th {\n",
       "        vertical-align: top;\n",
       "    }\n",
       "\n",
       "    .dataframe thead th {\n",
       "        text-align: right;\n",
       "    }\n",
       "</style>\n",
       "<table border=\"1\" class=\"dataframe\">\n",
       "  <thead>\n",
       "    <tr style=\"text-align: right;\">\n",
       "      <th></th>\n",
       "      <th>type</th>\n",
       "      <th>geometry</th>\n",
       "      <th>properties</th>\n",
       "      <th>municipio</th>\n",
       "      <th>estado</th>\n",
       "      <th>n_secas</th>\n",
       "    </tr>\n",
       "  </thead>\n",
       "  <tbody>\n",
       "    <tr>\n",
       "      <th>0</th>\n",
       "      <td>Feature</td>\n",
       "      <td>POLYGON ((-61.40930 2.02290, -61.41369 2.02543...</td>\n",
       "      <td>{'OBJECTID': 1, 'NM_MUNICIP': 'CARACARAÍ', 'CD...</td>\n",
       "      <td>CARACARAÍ</td>\n",
       "      <td>RORAIMA</td>\n",
       "      <td>1</td>\n",
       "    </tr>\n",
       "    <tr>\n",
       "      <th>1</th>\n",
       "      <td>Feature</td>\n",
       "      <td>POLYGON ((-61.33730 4.31159, -61.33787 4.31250...</td>\n",
       "      <td>{'OBJECTID': 2, 'NM_MUNICIP': 'AMAJARI', 'CD_G...</td>\n",
       "      <td>AMAJARI</td>\n",
       "      <td>RORAIMA</td>\n",
       "      <td>1</td>\n",
       "    </tr>\n",
       "    <tr>\n",
       "      <th>2</th>\n",
       "      <td>Feature</td>\n",
       "      <td>POLYGON ((-63.61441 3.73768, -63.62546 3.74067...</td>\n",
       "      <td>{'OBJECTID': 3, 'NM_MUNICIP': 'ALTO ALEGRE', '...</td>\n",
       "      <td>ALTO ALEGRE</td>\n",
       "      <td>RORAIMA</td>\n",
       "      <td>1</td>\n",
       "    </tr>\n",
       "    <tr>\n",
       "      <th>3</th>\n",
       "      <td>Feature</td>\n",
       "      <td>POLYGON ((-59.88384 3.56296, -59.88578 3.56379...</td>\n",
       "      <td>{'OBJECTID': 4, 'NM_MUNICIP': 'BONFIM', 'CD_GE...</td>\n",
       "      <td>BONFIM</td>\n",
       "      <td>RORAIMA</td>\n",
       "      <td>1</td>\n",
       "    </tr>\n",
       "    <tr>\n",
       "      <th>4</th>\n",
       "      <td>Feature</td>\n",
       "      <td>POLYGON ((-60.56198 2.87580, -60.56196 2.87629...</td>\n",
       "      <td>{'OBJECTID': 5, 'NM_MUNICIP': 'CANTÁ', 'CD_GEO...</td>\n",
       "      <td>CANTÁ</td>\n",
       "      <td>RORAIMA</td>\n",
       "      <td>1</td>\n",
       "    </tr>\n",
       "  </tbody>\n",
       "</table>\n",
       "</div>"
      ],
      "text/plain": [
       "      type                                           geometry  \\\n",
       "0  Feature  POLYGON ((-61.40930 2.02290, -61.41369 2.02543...   \n",
       "1  Feature  POLYGON ((-61.33730 4.31159, -61.33787 4.31250...   \n",
       "2  Feature  POLYGON ((-63.61441 3.73768, -63.62546 3.74067...   \n",
       "3  Feature  POLYGON ((-59.88384 3.56296, -59.88578 3.56379...   \n",
       "4  Feature  POLYGON ((-60.56198 2.87580, -60.56196 2.87629...   \n",
       "\n",
       "                                          properties    municipio   estado  \\\n",
       "0  {'OBJECTID': 1, 'NM_MUNICIP': 'CARACARAÍ', 'CD...    CARACARAÍ  RORAIMA   \n",
       "1  {'OBJECTID': 2, 'NM_MUNICIP': 'AMAJARI', 'CD_G...      AMAJARI  RORAIMA   \n",
       "2  {'OBJECTID': 3, 'NM_MUNICIP': 'ALTO ALEGRE', '...  ALTO ALEGRE  RORAIMA   \n",
       "3  {'OBJECTID': 4, 'NM_MUNICIP': 'BONFIM', 'CD_GE...       BONFIM  RORAIMA   \n",
       "4  {'OBJECTID': 5, 'NM_MUNICIP': 'CANTÁ', 'CD_GEO...        CANTÁ  RORAIMA   \n",
       "\n",
       "   n_secas  \n",
       "0        1  \n",
       "1        1  \n",
       "2        1  \n",
       "3        1  \n",
       "4        1  "
      ]
     },
     "execution_count": 13,
     "metadata": {},
     "output_type": "execute_result"
    }
   ],
   "source": [
    "gdf_secas.head()"
   ]
  },
  {
   "cell_type": "code",
   "execution_count": 14,
   "id": "78794641",
   "metadata": {},
   "outputs": [
    {
     "data": {
      "text/html": [
       "<div>\n",
       "<style scoped>\n",
       "    .dataframe tbody tr th:only-of-type {\n",
       "        vertical-align: middle;\n",
       "    }\n",
       "\n",
       "    .dataframe tbody tr th {\n",
       "        vertical-align: top;\n",
       "    }\n",
       "\n",
       "    .dataframe thead th {\n",
       "        text-align: right;\n",
       "    }\n",
       "</style>\n",
       "<table border=\"1\" class=\"dataframe\">\n",
       "  <thead>\n",
       "    <tr style=\"text-align: right;\">\n",
       "      <th></th>\n",
       "      <th>type</th>\n",
       "      <th>geometry_name</th>\n",
       "      <th>bbox</th>\n",
       "      <th>id</th>\n",
       "      <th>geometry</th>\n",
       "      <th>properties</th>\n",
       "    </tr>\n",
       "  </thead>\n",
       "  <tbody>\n",
       "    <tr>\n",
       "      <th>0</th>\n",
       "      <td>Feature</td>\n",
       "      <td>geom</td>\n",
       "      <td>[-41.75825089, -15.25299934, -41.2125879, -14....</td>\n",
       "      <td>vw_perc_morad_rend_1_a_2.fid-24ded500_17dab982...</td>\n",
       "      <td>MULTIPOLYGON (((-41.45880 -14.78142, -41.45497...</td>\n",
       "      <td>{'gid': 215, 'UF': 'BAHIA', 'nome': 'Tremedal'...</td>\n",
       "    </tr>\n",
       "    <tr>\n",
       "      <th>1</th>\n",
       "      <td>Feature</td>\n",
       "      <td>geom</td>\n",
       "      <td>[-52.30845944, -31.58952968, -52.00608251, -31...</td>\n",
       "      <td>vw_perc_morad_rend_1_a_2.fid-24ded500_17dab982...</td>\n",
       "      <td>MULTIPOLYGON (((-52.03535 -31.56751, -52.04061...</td>\n",
       "      <td>{'gid': 306, 'UF': 'RIO GRANDE DO SUL', 'nome'...</td>\n",
       "    </tr>\n",
       "    <tr>\n",
       "      <th>2</th>\n",
       "      <td>Feature</td>\n",
       "      <td>geom</td>\n",
       "      <td>[-40.36233224, -20.51660017, -28.83590763, -20...</td>\n",
       "      <td>vw_perc_morad_rend_1_a_2.fid-24ded500_17dab982...</td>\n",
       "      <td>MULTIPOLYGON Z (((-40.32926 -20.23997 0.00000,...</td>\n",
       "      <td>{'gid': 900, 'UF': 'ESPIRITO SANTO', 'nome': '...</td>\n",
       "    </tr>\n",
       "    <tr>\n",
       "      <th>3</th>\n",
       "      <td>Feature</td>\n",
       "      <td>geom</td>\n",
       "      <td>[-46.71524378, -22.38551766, -46.48063771, -22...</td>\n",
       "      <td>vw_perc_morad_rend_1_a_2.fid-24ded500_17dab982...</td>\n",
       "      <td>MULTIPOLYGON (((-46.50528 -22.34001, -46.51575...</td>\n",
       "      <td>{'gid': 3613, 'UF': 'MINAS GERAIS', 'nome': 'J...</td>\n",
       "    </tr>\n",
       "    <tr>\n",
       "      <th>4</th>\n",
       "      <td>Feature</td>\n",
       "      <td>geom</td>\n",
       "      <td>[-43.00527809, -5.56170307, -42.75274961, -5.3...</td>\n",
       "      <td>vw_perc_morad_rend_1_a_2.fid-24ded500_17dab982...</td>\n",
       "      <td>POLYGON Z ((-42.82668 -5.34803 0.00000, -42.82...</td>\n",
       "      <td>{'gid': 1028, 'UF': 'PIAUÍ', 'nome': 'Nazária'...</td>\n",
       "    </tr>\n",
       "  </tbody>\n",
       "</table>\n",
       "</div>"
      ],
      "text/plain": [
       "      type geometry_name                                               bbox  \\\n",
       "0  Feature          geom  [-41.75825089, -15.25299934, -41.2125879, -14....   \n",
       "1  Feature          geom  [-52.30845944, -31.58952968, -52.00608251, -31...   \n",
       "2  Feature          geom  [-40.36233224, -20.51660017, -28.83590763, -20...   \n",
       "3  Feature          geom  [-46.71524378, -22.38551766, -46.48063771, -22...   \n",
       "4  Feature          geom  [-43.00527809, -5.56170307, -42.75274961, -5.3...   \n",
       "\n",
       "                                                  id  \\\n",
       "0  vw_perc_morad_rend_1_a_2.fid-24ded500_17dab982...   \n",
       "1  vw_perc_morad_rend_1_a_2.fid-24ded500_17dab982...   \n",
       "2  vw_perc_morad_rend_1_a_2.fid-24ded500_17dab982...   \n",
       "3  vw_perc_morad_rend_1_a_2.fid-24ded500_17dab982...   \n",
       "4  vw_perc_morad_rend_1_a_2.fid-24ded500_17dab982...   \n",
       "\n",
       "                                            geometry  \\\n",
       "0  MULTIPOLYGON (((-41.45880 -14.78142, -41.45497...   \n",
       "1  MULTIPOLYGON (((-52.03535 -31.56751, -52.04061...   \n",
       "2  MULTIPOLYGON Z (((-40.32926 -20.23997 0.00000,...   \n",
       "3  MULTIPOLYGON (((-46.50528 -22.34001, -46.51575...   \n",
       "4  POLYGON Z ((-42.82668 -5.34803 0.00000, -42.82...   \n",
       "\n",
       "                                          properties  \n",
       "0  {'gid': 215, 'UF': 'BAHIA', 'nome': 'Tremedal'...  \n",
       "1  {'gid': 306, 'UF': 'RIO GRANDE DO SUL', 'nome'...  \n",
       "2  {'gid': 900, 'UF': 'ESPIRITO SANTO', 'nome': '...  \n",
       "3  {'gid': 3613, 'UF': 'MINAS GERAIS', 'nome': 'J...  \n",
       "4  {'gid': 1028, 'UF': 'PIAUÍ', 'nome': 'Nazária'...  "
      ]
     },
     "execution_count": 14,
     "metadata": {},
     "output_type": "execute_result"
    }
   ],
   "source": [
    "gdf_renda.head()"
   ]
  },
  {
   "cell_type": "code",
   "execution_count": 17,
   "id": "906f6aab",
   "metadata": {},
   "outputs": [
    {
     "data": {
      "text/plain": [
       "{'gid': 215,\n",
       " 'UF': 'BAHIA',\n",
       " 'nome': 'Tremedal',\n",
       " 'Censo': '2010',\n",
       " 'Morad_rend_1_a_2': 844,\n",
       " 'PERC_Morad_rend_1_a_2': 4.958289,\n",
       " 'Descrição': 'Percentual de moradores em domicílios particulares permanentes com mais de 1 a 2 salários mínimos de rendimento domiciliar nominal mensal per capita na população de moradores em domicílios particulares permanentes',\n",
       " 'legenda': ' - 9.09%',\n",
       " 'classe': 1}"
      ]
     },
     "execution_count": 17,
     "metadata": {},
     "output_type": "execute_result"
    }
   ],
   "source": [
    "gdf_renda['properties'][0]"
   ]
  },
  {
   "cell_type": "code",
   "execution_count": 18,
   "id": "d948a4c6",
   "metadata": {},
   "outputs": [],
   "source": [
    "gdf_renda['estado'] = gdf_renda['properties'].apply(lambda x: x['UF'])\n",
    "gdf_renda['municipio'] = gdf_renda['properties'].apply(lambda x: x['nome'])\n",
    "gdf_renda['censo'] = gdf_renda['properties'].apply(lambda x: x['Censo'])\n",
    "gdf_renda['n_morad_renda'] = gdf_renda['properties'].apply(lambda x: x['Morad_rend_1_a_2'])\n",
    "gdf_renda['perc_morad_renda'] = gdf_renda['properties'].apply(lambda x: x['PERC_Morad_rend_1_a_2'])\n",
    "gdf_renda['legenda'] = gdf_renda['properties'].apply(lambda x: x['legenda'])"
   ]
  },
  {
   "cell_type": "code",
   "execution_count": 19,
   "id": "8b5d20ca",
   "metadata": {},
   "outputs": [
    {
     "data": {
      "text/html": [
       "<div>\n",
       "<style scoped>\n",
       "    .dataframe tbody tr th:only-of-type {\n",
       "        vertical-align: middle;\n",
       "    }\n",
       "\n",
       "    .dataframe tbody tr th {\n",
       "        vertical-align: top;\n",
       "    }\n",
       "\n",
       "    .dataframe thead th {\n",
       "        text-align: right;\n",
       "    }\n",
       "</style>\n",
       "<table border=\"1\" class=\"dataframe\">\n",
       "  <thead>\n",
       "    <tr style=\"text-align: right;\">\n",
       "      <th></th>\n",
       "      <th>type</th>\n",
       "      <th>geometry_name</th>\n",
       "      <th>bbox</th>\n",
       "      <th>id</th>\n",
       "      <th>geometry</th>\n",
       "      <th>properties</th>\n",
       "      <th>estado</th>\n",
       "      <th>municipio</th>\n",
       "      <th>censo</th>\n",
       "      <th>n_morad_renda</th>\n",
       "      <th>perc_morad_renda</th>\n",
       "      <th>legenda</th>\n",
       "    </tr>\n",
       "  </thead>\n",
       "  <tbody>\n",
       "    <tr>\n",
       "      <th>0</th>\n",
       "      <td>Feature</td>\n",
       "      <td>geom</td>\n",
       "      <td>[-41.75825089, -15.25299934, -41.2125879, -14....</td>\n",
       "      <td>vw_perc_morad_rend_1_a_2.fid-24ded500_17dab982...</td>\n",
       "      <td>MULTIPOLYGON (((-41.45880 -14.78142, -41.45497...</td>\n",
       "      <td>{'gid': 215, 'UF': 'BAHIA', 'nome': 'Tremedal'...</td>\n",
       "      <td>BAHIA</td>\n",
       "      <td>Tremedal</td>\n",
       "      <td>2010</td>\n",
       "      <td>844</td>\n",
       "      <td>4.958289</td>\n",
       "      <td>- 9.09%</td>\n",
       "    </tr>\n",
       "    <tr>\n",
       "      <th>1</th>\n",
       "      <td>Feature</td>\n",
       "      <td>geom</td>\n",
       "      <td>[-52.30845944, -31.58952968, -52.00608251, -31...</td>\n",
       "      <td>vw_perc_morad_rend_1_a_2.fid-24ded500_17dab982...</td>\n",
       "      <td>MULTIPOLYGON (((-52.03535 -31.56751, -52.04061...</td>\n",
       "      <td>{'gid': 306, 'UF': 'RIO GRANDE DO SUL', 'nome'...</td>\n",
       "      <td>RIO GRANDE DO SUL</td>\n",
       "      <td>Turuçu</td>\n",
       "      <td>2010</td>\n",
       "      <td>621</td>\n",
       "      <td>17.692308</td>\n",
       "      <td>16.72% - 24.56%</td>\n",
       "    </tr>\n",
       "    <tr>\n",
       "      <th>2</th>\n",
       "      <td>Feature</td>\n",
       "      <td>geom</td>\n",
       "      <td>[-40.36233224, -20.51660017, -28.83590763, -20...</td>\n",
       "      <td>vw_perc_morad_rend_1_a_2.fid-24ded500_17dab982...</td>\n",
       "      <td>MULTIPOLYGON Z (((-40.32926 -20.23997 0.00000,...</td>\n",
       "      <td>{'gid': 900, 'UF': 'ESPIRITO SANTO', 'nome': '...</td>\n",
       "      <td>ESPIRITO SANTO</td>\n",
       "      <td>Vitória</td>\n",
       "      <td>2010</td>\n",
       "      <td>68015</td>\n",
       "      <td>20.817009</td>\n",
       "      <td>16.72% - 24.56%</td>\n",
       "    </tr>\n",
       "    <tr>\n",
       "      <th>3</th>\n",
       "      <td>Feature</td>\n",
       "      <td>geom</td>\n",
       "      <td>[-46.71524378, -22.38551766, -46.48063771, -22...</td>\n",
       "      <td>vw_perc_morad_rend_1_a_2.fid-24ded500_17dab982...</td>\n",
       "      <td>MULTIPOLYGON (((-46.50528 -22.34001, -46.51575...</td>\n",
       "      <td>{'gid': 3613, 'UF': 'MINAS GERAIS', 'nome': 'J...</td>\n",
       "      <td>MINAS GERAIS</td>\n",
       "      <td>Jacutinga</td>\n",
       "      <td>2010</td>\n",
       "      <td>6533</td>\n",
       "      <td>28.861107</td>\n",
       "      <td>24.56% - 33.66%</td>\n",
       "    </tr>\n",
       "    <tr>\n",
       "      <th>4</th>\n",
       "      <td>Feature</td>\n",
       "      <td>geom</td>\n",
       "      <td>[-43.00527809, -5.56170307, -42.75274961, -5.3...</td>\n",
       "      <td>vw_perc_morad_rend_1_a_2.fid-24ded500_17dab982...</td>\n",
       "      <td>POLYGON Z ((-42.82668 -5.34803 0.00000, -42.82...</td>\n",
       "      <td>{'gid': 1028, 'UF': 'PIAUÍ', 'nome': 'Nazária'...</td>\n",
       "      <td>PIAUÍ</td>\n",
       "      <td>Nazária</td>\n",
       "      <td>2010</td>\n",
       "      <td>284</td>\n",
       "      <td>3.528389</td>\n",
       "      <td>- 9.09%</td>\n",
       "    </tr>\n",
       "  </tbody>\n",
       "</table>\n",
       "</div>"
      ],
      "text/plain": [
       "      type geometry_name                                               bbox  \\\n",
       "0  Feature          geom  [-41.75825089, -15.25299934, -41.2125879, -14....   \n",
       "1  Feature          geom  [-52.30845944, -31.58952968, -52.00608251, -31...   \n",
       "2  Feature          geom  [-40.36233224, -20.51660017, -28.83590763, -20...   \n",
       "3  Feature          geom  [-46.71524378, -22.38551766, -46.48063771, -22...   \n",
       "4  Feature          geom  [-43.00527809, -5.56170307, -42.75274961, -5.3...   \n",
       "\n",
       "                                                  id  \\\n",
       "0  vw_perc_morad_rend_1_a_2.fid-24ded500_17dab982...   \n",
       "1  vw_perc_morad_rend_1_a_2.fid-24ded500_17dab982...   \n",
       "2  vw_perc_morad_rend_1_a_2.fid-24ded500_17dab982...   \n",
       "3  vw_perc_morad_rend_1_a_2.fid-24ded500_17dab982...   \n",
       "4  vw_perc_morad_rend_1_a_2.fid-24ded500_17dab982...   \n",
       "\n",
       "                                            geometry  \\\n",
       "0  MULTIPOLYGON (((-41.45880 -14.78142, -41.45497...   \n",
       "1  MULTIPOLYGON (((-52.03535 -31.56751, -52.04061...   \n",
       "2  MULTIPOLYGON Z (((-40.32926 -20.23997 0.00000,...   \n",
       "3  MULTIPOLYGON (((-46.50528 -22.34001, -46.51575...   \n",
       "4  POLYGON Z ((-42.82668 -5.34803 0.00000, -42.82...   \n",
       "\n",
       "                                          properties             estado  \\\n",
       "0  {'gid': 215, 'UF': 'BAHIA', 'nome': 'Tremedal'...              BAHIA   \n",
       "1  {'gid': 306, 'UF': 'RIO GRANDE DO SUL', 'nome'...  RIO GRANDE DO SUL   \n",
       "2  {'gid': 900, 'UF': 'ESPIRITO SANTO', 'nome': '...     ESPIRITO SANTO   \n",
       "3  {'gid': 3613, 'UF': 'MINAS GERAIS', 'nome': 'J...       MINAS GERAIS   \n",
       "4  {'gid': 1028, 'UF': 'PIAUÍ', 'nome': 'Nazária'...              PIAUÍ   \n",
       "\n",
       "   municipio censo  n_morad_renda  perc_morad_renda          legenda  \n",
       "0   Tremedal  2010            844          4.958289          - 9.09%  \n",
       "1     Turuçu  2010            621         17.692308  16.72% - 24.56%  \n",
       "2    Vitória  2010          68015         20.817009  16.72% - 24.56%  \n",
       "3  Jacutinga  2010           6533         28.861107  24.56% - 33.66%  \n",
       "4    Nazária  2010            284          3.528389          - 9.09%  "
      ]
     },
     "execution_count": 19,
     "metadata": {},
     "output_type": "execute_result"
    }
   ],
   "source": [
    "gdf_renda.head()"
   ]
  },
  {
   "cell_type": "code",
   "execution_count": null,
   "id": "37a68715",
   "metadata": {},
   "outputs": [],
   "source": []
  }
 ],
 "metadata": {
  "kernelspec": {
   "display_name": "Python 3 (ipykernel)",
   "language": "python",
   "name": "python3"
  },
  "language_info": {
   "codemirror_mode": {
    "name": "ipython",
    "version": 3
   },
   "file_extension": ".py",
   "mimetype": "text/x-python",
   "name": "python",
   "nbconvert_exporter": "python",
   "pygments_lexer": "ipython3",
   "version": "3.9.7"
  }
 },
 "nbformat": 4,
 "nbformat_minor": 5
}
